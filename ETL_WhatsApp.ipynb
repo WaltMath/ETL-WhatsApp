{
  "nbformat": 4,
  "nbformat_minor": 0,
  "metadata": {
    "colab": {
      "name": "ETL WhatsApp.ipynb",
      "provenance": [],
      "collapsed_sections": []
    },
    "kernelspec": {
      "name": "python3",
      "display_name": "Python 3"
    },
    "language_info": {
      "name": "python"
    }
  },
  "cells": [
    {
      "cell_type": "code",
      "metadata": {
        "colab": {
          "base_uri": "https://localhost:8080/"
        },
        "id": "JewOBvsyyRyI",
        "outputId": "7d650208-0244-4df3-b4f0-6a00b8576069"
      },
      "source": [
        "# Montar o Google Drive\n",
        "!pip install easycolab\n",
        "import easycolab as ec\n",
        "ec.mount()\n",
        "\n",
        "import pandas as pd"
      ],
      "execution_count": null,
      "outputs": [
        {
          "output_type": "stream",
          "text": [
            "Requirement already satisfied: easycolab in /usr/local/lib/python3.7/dist-packages (0.1b29)\n",
            "Drive already mounted at /content/gdrive; to attempt to forcibly remount, call drive.mount(\"/content/gdrive\", force_remount=True).\n",
            "Opening directory /content/gdrive/My Drive/\n",
            "Done!\n"
          ],
          "name": "stdout"
        }
      ]
    },
    {
      "cell_type": "code",
      "metadata": {
        "colab": {
          "base_uri": "https://localhost:8080/"
        },
        "id": "uvULyYyGydLG",
        "outputId": "27a442b0-3028-4ed5-8b39-1ba5c5dab36c"
      },
      "source": [
        "cd grupos_whatsapp"
      ],
      "execution_count": null,
      "outputs": [
        {
          "output_type": "stream",
          "text": [
            "/content/gdrive/My Drive/grupos_whatsapp\n"
          ],
          "name": "stdout"
        }
      ]
    },
    {
      "cell_type": "code",
      "metadata": {
        "id": "bZ-xGLXJyfTO",
        "colab": {
          "base_uri": "https://localhost:8080/"
        },
        "outputId": "27e4d244-b5d4-4403-80c8-1412ea460c6b"
      },
      "source": [
        "!pip install emoji"
      ],
      "execution_count": null,
      "outputs": [
        {
          "output_type": "stream",
          "text": [
            "Requirement already satisfied: emoji in /usr/local/lib/python3.7/dist-packages (1.2.0)\n"
          ],
          "name": "stdout"
        }
      ]
    },
    {
      "cell_type": "code",
      "metadata": {
        "id": "e_aVrJUIykXU"
      },
      "source": [
        "import re\n",
        "import regex\n",
        "import pandas as pd\n",
        "import numpy as np\n",
        "import emoji\n",
        "import plotly.express as px\n",
        "from collections import Counter\n",
        "import matplotlib.pyplot as plt\n",
        "from os import path\n",
        "from PIL import Image\n",
        "from wordcloud import WordCloud, STOPWORDS, ImageColorGenerator\n",
        "% matplotlib inline"
      ],
      "execution_count": null,
      "outputs": []
    },
    {
      "cell_type": "code",
      "metadata": {
        "id": "tRCp1SVMysQc"
      },
      "source": [
        "! git clone https://github.com/amueller/word_cloud.git\n",
        "% cd word_cloud\n",
        "! pip install ."
      ],
      "execution_count": null,
      "outputs": []
    },
    {
      "cell_type": "code",
      "metadata": {
        "id": "ZxFDuqq1yvEU"
      },
      "source": [
        "def iniciaDataHora(s):\n",
        "    padrao = '^(\\d{2})(\\/)(\\d{2})(\\/)(\\d{4}) (\\d{2}):(\\d{2})[ ]? -' \n",
        "    resultado = re.match(padrao, s)\n",
        "    if resultado:\n",
        "        return True\n",
        "    return False\n",
        "\n",
        "def dadosSeparados(linha):\n",
        "    #01/11/2020 15:25 - Exemplo: Oi, eu sou o Exemplo\n",
        "\n",
        "    data_search = re.search(\"(\\d{2})(\\/)(\\d{2})(\\/)(\\d{4})\", linha)\n",
        "    data = data_search.group()\n",
        "\n",
        "    hora_search = re.search(\"(\\d{2}):(\\d{2})\", linha)\n",
        "    hora = hora_search.group()\n",
        "\n",
        "    #para o autor estamos pegando a string que está entre \"- \" e \": \"\n",
        "    autor_search = re.search(\"(?<=\\-\\s)(.*?)(?=\\:\\s)\", linha)\n",
        "    if autor_search is None:\n",
        "        autor = None\n",
        "\n",
        "def dadosSeparados(linha):\n",
        "    #01/11/2020 15:25 - Exemplo: Oi, eu sou o Exemplo\n",
        "\n",
        "    data_search = re.search(\"(\\d{2})(\\/)(\\d{2})(\\/)(\\d{4})\", linha)\n",
        "    data = data_search.group()\n",
        "\n",
        "    hora_search = re.search(\"(\\d{2}):(\\d{2})\", linha)\n",
        "    hora = hora_search.group()\n",
        "\n",
        "    #para o autor estamos pegando a string que está entre \"- \" e \": \"\n",
        "    autor_search = re.search(\"(?<=\\-\\s)(.*?)(?=\\:\\s)\", linha)\n",
        "    if autor_search is None:\n",
        "        autor = None\n",
        "    else:\n",
        "        autor = autor_search.group()\n",
        "    \n",
        "    mensagem_search = re.search(\"(?<=\\:\\s).*\", linha)\n",
        "    if mensagem_search is None:\n",
        "        mensagem = \"\"\n",
        "    else:\n",
        "        mensagem = mensagem_search.group()\n",
        "\n",
        "    return data, hora, autor, mensagem"
      ],
      "execution_count": null,
      "outputs": []
    },
    {
      "cell_type": "code",
      "metadata": {
        "colab": {
          "base_uri": "https://localhost:8080/",
          "height": 204
        },
        "id": "qpEj8VpxyzSc",
        "outputId": "ddb60f83-ae99-4d81-a9e5-985f83e3ff3e"
      },
      "source": [
        "# Juntar todos os arquivos de conversa\n",
        "\n",
        "arq = open(\"dataset_zap.txt\", \"w\") \n",
        "arq1 = open(\"Conversa do WhatsApp com Grito dos excluídos.txt\", \"r\")\n",
        "arq2 = open(\"Conversa do WhatsApp com BRIGADA SAPOPEMBA.txt\", \"r\")\n",
        "arq.write(arq1.read()+arq2.read())\n",
        "arq.close()\n",
        "\n",
        "dadoAnalisado = []\n",
        "FILENAME = 'dataset_zap.txt'\n",
        "with open (FILENAME) as fp:\n",
        "    fp.readline()\n",
        "    mensagemBuffer = [] \n",
        "    data, hora, autor, mensagem = None, None, \"\", \"\"\n",
        "    while True:\n",
        "        linha = fp.readline() \n",
        "        if not linha: \n",
        "            break\n",
        "        linha = linha.strip() \n",
        "        if iniciaDataHora(linha):\n",
        "            if len(mensagem) > 0: \n",
        "                dadoAnalisado.append([data, hora, autor, mensagem])\n",
        "            data, hora, autor, mensagem = dadosSeparados(linha)\n",
        "\n",
        "df = pd.DataFrame(dadoAnalisado, columns=['Date', 'Time', 'Author', 'Message']) # Initialising a pandas Dataframe.\n",
        "df[\"Date\"] = pd.to_datetime(df[\"Date\"])\n",
        "df.head()"
      ],
      "execution_count": null,
      "outputs": [
        {
          "output_type": "execute_result",
          "data": {
            "text/html": [
              "<div>\n",
              "<style scoped>\n",
              "    .dataframe tbody tr th:only-of-type {\n",
              "        vertical-align: middle;\n",
              "    }\n",
              "\n",
              "    .dataframe tbody tr th {\n",
              "        vertical-align: top;\n",
              "    }\n",
              "\n",
              "    .dataframe thead th {\n",
              "        text-align: right;\n",
              "    }\n",
              "</style>\n",
              "<table border=\"1\" class=\"dataframe\">\n",
              "  <thead>\n",
              "    <tr style=\"text-align: right;\">\n",
              "      <th></th>\n",
              "      <th>Date</th>\n",
              "      <th>Time</th>\n",
              "      <th>Author</th>\n",
              "      <th>Message</th>\n",
              "    </tr>\n",
              "  </thead>\n",
              "  <tbody>\n",
              "    <tr>\n",
              "      <th>0</th>\n",
              "      <td>2020-10-29</td>\n",
              "      <td>13:30</td>\n",
              "      <td>Sol Direitos Humanos</td>\n",
              "      <td>&lt;Arquivo de mídia oculto&gt;</td>\n",
              "    </tr>\n",
              "    <tr>\n",
              "      <th>1</th>\n",
              "      <td>2020-10-29</td>\n",
              "      <td>13:34</td>\n",
              "      <td>+55 11 99829-4650</td>\n",
              "      <td>&lt;Arquivo de mídia oculto&gt;</td>\n",
              "    </tr>\n",
              "    <tr>\n",
              "      <th>2</th>\n",
              "      <td>2020-10-29</td>\n",
              "      <td>13:43</td>\n",
              "      <td>+55 11 98203-3529</td>\n",
              "      <td>&lt;Arquivo de mídia oculto&gt;</td>\n",
              "    </tr>\n",
              "    <tr>\n",
              "      <th>3</th>\n",
              "      <td>2020-10-29</td>\n",
              "      <td>14:12</td>\n",
              "      <td>Rai Ufabc</td>\n",
              "      <td>*Qual é a cor do invisível?”* é a pergunta eng...</td>\n",
              "    </tr>\n",
              "    <tr>\n",
              "      <th>4</th>\n",
              "      <td>2020-10-29</td>\n",
              "      <td>14:12</td>\n",
              "      <td>Rai Ufabc</td>\n",
              "      <td>&lt;Arquivo de mídia oculto&gt;</td>\n",
              "    </tr>\n",
              "  </tbody>\n",
              "</table>\n",
              "</div>"
            ],
            "text/plain": [
              "        Date  ...                                            Message\n",
              "0 2020-10-29  ...                          <Arquivo de mídia oculto>\n",
              "1 2020-10-29  ...                          <Arquivo de mídia oculto>\n",
              "2 2020-10-29  ...                          <Arquivo de mídia oculto>\n",
              "3 2020-10-29  ...  *Qual é a cor do invisível?”* é a pergunta eng...\n",
              "4 2020-10-29  ...                          <Arquivo de mídia oculto>\n",
              "\n",
              "[5 rows x 4 columns]"
            ]
          },
          "metadata": {
            "tags": []
          },
          "execution_count": 46
        }
      ]
    },
    {
      "cell_type": "code",
      "metadata": {
        "colab": {
          "base_uri": "https://localhost:8080/"
        },
        "id": "0YaoLsjm4YZw",
        "outputId": "7c7daf77-f973-4167-f042-c791c0bd287a"
      },
      "source": [
        "df['Message'] = df['Message'].astype('string')\n",
        "df['Author'] = df['Author'].astype('string')\n",
        "df.info()"
      ],
      "execution_count": null,
      "outputs": [
        {
          "output_type": "stream",
          "text": [
            "<class 'pandas.core.frame.DataFrame'>\n",
            "RangeIndex: 5942 entries, 0 to 5941\n",
            "Data columns (total 4 columns):\n",
            " #   Column   Non-Null Count  Dtype         \n",
            "---  ------   --------------  -----         \n",
            " 0   Date     5942 non-null   datetime64[ns]\n",
            " 1   Time     5942 non-null   object        \n",
            " 2   Author   5942 non-null   string        \n",
            " 3   Message  5942 non-null   string        \n",
            "dtypes: datetime64[ns](1), object(1), string(2)\n",
            "memory usage: 185.8+ KB\n"
          ],
          "name": "stdout"
        }
      ]
    },
    {
      "cell_type": "code",
      "metadata": {
        "colab": {
          "base_uri": "https://localhost:8080/",
          "height": 35
        },
        "id": "KRVZub83LcU7",
        "outputId": "64f9b944-dc4e-4d18-963a-eb104cb866eb"
      },
      "source": [
        "texto = df['Message'] \n",
        "\n",
        "texto [15]\n"
      ],
      "execution_count": null,
      "outputs": [
        {
          "output_type": "execute_result",
          "data": {
            "application/vnd.google.colaboratory.intrinsic+json": {
              "type": "string"
            },
            "text/plain": [
              "'*_Faltam 16 dias para eleger Bruno Daniel_* 5️⃣0️⃣'"
            ]
          },
          "metadata": {
            "tags": []
          },
          "execution_count": 48
        }
      ]
    },
    {
      "cell_type": "code",
      "metadata": {
        "colab": {
          "base_uri": "https://localhost:8080/",
          "height": 35
        },
        "id": "sLBeBQhdNHoe",
        "outputId": "db4c2270-9656-443c-8e29-5b9ac07c8214"
      },
      "source": [
        "# Remover hastag\n",
        "texto = texto.replace(to_replace= r'#\\S+', value ='', regex = True)\n",
        "\n",
        "# Remover menções\n",
        "texto = texto.replace(to_replace= r'@\\S+', value ='', regex = True)\n",
        "\n",
        "# Remover hyperlinks \n",
        "texto = texto.replace(to_replace= r'https?:\\/\\/.*[\\r\\n]*', value ='', regex = True)\n",
        "\n",
        "# Remover emotions\n",
        "texto = texto.replace(to_replace= r'[^\\w\\s#@/:%.,_-]', value ='', regex = True)\n",
        "\n",
        "# Remover números\n",
        "texto = texto.replace(to_replace= r'[0-9]+', value ='', regex = True)\n",
        "\n",
        "# Remover \n",
        "texto = texto.replace(to_replace= r'\\$\\w*', value ='', regex = True)\n",
        "\n",
        "texto [15]\n"
      ],
      "execution_count": null,
      "outputs": [
        {
          "output_type": "execute_result",
          "data": {
            "application/vnd.google.colaboratory.intrinsic+json": {
              "type": "string"
            },
            "text/plain": [
              "'*_Faltam 16 dias para eleger Bruno Daniel_* 5️⃣0️⃣'"
            ]
          },
          "metadata": {
            "tags": []
          },
          "execution_count": 50
        }
      ]
    },
    {
      "cell_type": "code",
      "metadata": {
        "id": "HNP6dCG2zhUc"
      },
      "source": [
        "df.to_excel(r'/content/gdrive/My Drive/grupos_whatsapp/saidas/grupos_whats.xlsx', index = False)\n"
      ],
      "execution_count": null,
      "outputs": []
    }
  ]
}